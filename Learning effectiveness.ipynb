{
 "cells": [
  {
   "cell_type": "code",
   "execution_count": 63,
   "id": "4badbfa6",
   "metadata": {},
   "outputs": [],
   "source": [
    "import numpy as np\n",
    "import pandas as pd\n",
    "import openpyxl\n",
    "import warnings \n",
    "warnings.filterwarnings(\"ignore\")\n",
    "import seaborn as sns\n",
    "import matplotlib.pyplot as plt\n",
    "from scipy import stats\n",
    "import random\n",
    "\n",
    "#plt.style.use('ggplot')\n",
    "plt.style.use('tableau-colorblind10')"
   ]
  },
  {
   "cell_type": "code",
   "execution_count": 15,
   "id": "a3518475",
   "metadata": {},
   "outputs": [],
   "source": [
    "%matplotlib inline"
   ]
  },
  {
   "cell_type": "markdown",
   "id": "9a953dad",
   "metadata": {},
   "source": [
    "# План исследования"
   ]
  },
  {
   "cell_type": "markdown",
   "id": "d0634c0e",
   "metadata": {},
   "source": [
    "1) Описание данных\n",
    "\n",
    "2) Критерий знаков и ранговый тест Уилкоксона для связанных выборок\n",
    "\n",
    "3) Выбор подвыборки из группы не проходивших обучение. Повторяемые испытания. Ранговый критерий Манна-Уитни для несвязанных выборок.\n",
    "\n",
    "4) Коэффициент Фи-Гилфорда\n",
    "\n",
    "5) Выводы"
   ]
  },
  {
   "cell_type": "markdown",
   "id": "971cd9de",
   "metadata": {},
   "source": [
    "## Описание данных"
   ]
  },
  {
   "cell_type": "markdown",
   "id": "fe0580d5",
   "metadata": {},
   "source": [
    "#### Описание"
   ]
  },
  {
   "cell_type": "markdown",
   "id": "522fbe04",
   "metadata": {},
   "source": [
    "Для исследования взяты следующие данные:\n",
    "\n",
    "-- По сотрудникам, ПРОХОДИВШИМ обучение \"Управление проектами\" (до 2022 года) и их оценки итоговой эффективности: бинарная (выполнил/невыполнил KPI) и количественная до и после обучения (таким образом за оценку после обучения взята оценка в 2022 году). Данные сотрудники являются в основном руководителями. Размер данной выборки - 31. \n",
    "\n",
    "-- По сотрудникам, НЕ ПРОХОДИВШИМ обучение \"Управление проектами\" и их оценки итоговой эффективности: бинарная и количественная до 2022 года и в 2022 году. Из всей массы сотрудников с оценками взяты те, в должностях которых присутствуют ключевые слова \"Ведущий, Главный, Руководитель, Начальник, Менеджер\". Размер данной выборки - 151."
   ]
  },
  {
   "cell_type": "markdown",
   "id": "652f428d",
   "metadata": {},
   "source": [
    "#### Ограничения и допущения"
   ]
  },
  {
   "cell_type": "markdown",
   "id": "2f00c1ad",
   "metadata": {},
   "source": [
    "##### О бинарных и количественных оценках"
   ]
  },
  {
   "cell_type": "markdown",
   "id": "b411b4c5",
   "metadata": {},
   "source": [
    "Для бизнеса важен сам факт того, выполняет сотрудник KPI или нет, поэтому приортетными данными для анализа являются бинарные оценки результативности. Однако, к примеру, в выборке сотрудников, проходивших обучение нет выраженного отличия у оценок до и после обучения: 25 сотрудников выполнили KPI до и после обучения; 2 не выполнили до и после; 1 не выполнил до, но выполнил после; 3 - выполнили до и не выполнили после. "
   ]
  },
  {
   "cell_type": "markdown",
   "id": "de4e4812",
   "metadata": {},
   "source": [
    "Переводя количественные оценки в бинарные теряется часть информации. Хотелось бы ее не терять и проанализировать количественные оценки. Здесь сталкиваемся с первыми ограничениями и допущениями:\n",
    "\n",
    "1) Мы НЕ МОЖЕМ сравнивать количественные оценки разных сотрудников, поскольку нормативы оценивания, а также задачи могут различаться (что часто происходит)\n",
    "\n",
    "2) Однако, мы МОЖЕМ сравнивать количественные оценки одного и того же сотрудника в прошлом году и в текущем, т.к. нормативы оценивания меняются крайне редко и такими случаями мы можем пренебречь. Таким образом, мы допускаем, что нормативы оценивания количественной оценки сотрудника не изменяются."
   ]
  },
  {
   "cell_type": "markdown",
   "id": "8c1c3663",
   "metadata": {},
   "source": [
    "##### О стаже и его влиянии на эффективность"
   ]
  },
  {
   "cell_type": "markdown",
   "id": "34d291e8",
   "metadata": {},
   "source": [
    "Ввиду того, что мы не можем сравнивать количественные оценки сотрудников, но хотим потенциально сравнить две несвязанные выборки (тех, кто проходил обучение и тех, кто не проходил), нам нужна мера, которая помогла бы нам извлечь из выборки не проходивших обучение подвыборку максимально похожую на выборку проходивших обучение."
   ]
  },
  {
   "cell_type": "markdown",
   "id": "5640ca6d",
   "metadata": {},
   "source": [
    "Предположения: \n",
    "\n",
    "После двух лет работы эффективность сотрудника выходит на плато и уже не связана с его адаптацией в компании. Возможные отклонения: улучшения или ухудшения связаны с внешними факторами (например, финансовый кризис), личными или профессиональные, например, с приобретением новых навыков в результате прохождения обучения. Таким образом, вводим два допущения:\n",
    "\n",
    "1) Эффективность двух групп сотрудников с похожим РАСПРЕДЕЛЕНИЕМ СТАЖЕЙ не завязана на адаптации. Считаем, что такие две группы имеют одинаковые \"входные данные\"\n",
    "\n",
    "2) Внешние факторы для двух разных исследуемых групп в ОДИН И ТОТ ЖЕ ГОД одинаковы. (Например, если возникла какая-то внешняя кризисная ситуация в определенном году, которая повлияла на результат - то она возникла сразу у всех. В один и тот же год все в одинаковых условиях)\n",
    "\n",
    "3) * Относительные изменения в эффективности сотрудников из одного года в другой принадлежат одному и тому же распределению. Грубо говоря, если один сотрудник смог улучшить свою эффективность на k%, любой другой сотрудник теоретически также мог это сделать. (Данное предположение проверим статистически) \n",
    "\n",
    "4) ! Дописать про KPI"
   ]
  },
  {
   "cell_type": "markdown",
   "id": "a2eaef7d",
   "metadata": {},
   "source": [
    "## Связанные выборки. Критерий знаков, ранговый тест Уилкоксона"
   ]
  },
  {
   "cell_type": "markdown",
   "id": "7ea9560f",
   "metadata": {},
   "source": [
    "Описание:\n",
    "\n",
    "Берем только тех сотрудников, которые проходили обучение. В качестве выборок берем количественные оценки до и после обучения. Эти выборки будут связанными, малыми. Применим тест Уилкоксона для связанных выборок, а также критерий знаков.\n",
    "\n",
    "[О критерии Уилкоксона для связанных выборок](http://www.machinelearning.ru/wiki/index.php?title=%D0%9A%D1%80%D0%B8%D1%82%D0%B5%D1%80%D0%B8%D0%B9_%D0%A3%D0%B8%D0%BB%D0%BA%D0%BE%D0%BA%D1%81%D0%BE%D0%BD%D0%B0_%D0%B4%D0%BB%D1%8F_%D1%81%D0%B2%D1%8F%D0%B7%D0%BD%D1%8B%D1%85_%D0%B2%D1%8B%D0%B1%D0%BE%D1%80%D0%BE%D0%BA)\n",
    "\n",
    "[О ранговом критерии знаков](http://www.machinelearning.ru/wiki/index.php?title=%D0%9A%D1%80%D0%B8%D1%82%D0%B5%D1%80%D0%B8%D0%B9_%D0%B7%D0%BD%D0%B0%D0%BA%D0%BE%D0%B2)\n",
    "\n",
    "Преимущества: \n",
    "1) Анализируем одних и тех же сотрудников. По сути проверяем их же навыки до и после обучения. \\\n",
    "2) Используем количественные оценки, т.к. у одних и тех же сотрудников сравнивать количественные оценки позволяет сделанное предположение.\n",
    "\n",
    "Недостаток: \\\n",
    "Есть вероятность, что внешние факторы в 2022 году могли как-то повлиять на эффективность сотрудников. Например, условный кризис подкосил все результаты KPI в 2022.\n",
    "\n",
    "Как искоренить недостаток? Нужно включать в анализ сотрудников, которые обучение не проходили. И сравнивать изменения в оценках у первой группы с изменением оценок во второй. (П.3 текущего исследования)\n",
    "\n",
    "Какие могут возникнуть проблемы при \"устранении недостатка\"? Выбор \"похожей\" подвыборки из выборки непроходивших обучение"
   ]
  },
  {
   "cell_type": "code",
   "execution_count": 8,
   "id": "2b122f36",
   "metadata": {},
   "outputs": [],
   "source": [
    "df = pd.read_excel(\"1.xlsx\", engine='openpyxl', sheet_name=0, header=0)"
   ]
  },
  {
   "cell_type": "markdown",
   "id": "0bbc78c5",
   "metadata": {},
   "source": [
    "##### Вид исследуемого датасета"
   ]
  },
  {
   "cell_type": "code",
   "execution_count": 9,
   "id": "a20f1109",
   "metadata": {},
   "outputs": [
    {
     "data": {
      "text/html": [
       "<div>\n",
       "<style scoped>\n",
       "    .dataframe tbody tr th:only-of-type {\n",
       "        vertical-align: middle;\n",
       "    }\n",
       "\n",
       "    .dataframe tbody tr th {\n",
       "        vertical-align: top;\n",
       "    }\n",
       "\n",
       "    .dataframe thead th {\n",
       "        text-align: right;\n",
       "    }\n",
       "</style>\n",
       "<table border=\"1\" class=\"dataframe\">\n",
       "  <thead>\n",
       "    <tr style=\"text-align: right;\">\n",
       "      <th></th>\n",
       "      <th>Unnamed: 0</th>\n",
       "      <th>До обучения</th>\n",
       "      <th>После обучения</th>\n",
       "      <th>До обучения (кол)</th>\n",
       "      <th>После обучения (кол)</th>\n",
       "    </tr>\n",
       "  </thead>\n",
       "  <tbody>\n",
       "    <tr>\n",
       "      <th>0</th>\n",
       "      <td>Афисов Димитрис</td>\n",
       "      <td>1</td>\n",
       "      <td>0</td>\n",
       "      <td>1.9</td>\n",
       "      <td>1.4</td>\n",
       "    </tr>\n",
       "    <tr>\n",
       "      <th>1</th>\n",
       "      <td>Бахтеев Александр</td>\n",
       "      <td>1</td>\n",
       "      <td>1</td>\n",
       "      <td>4.0</td>\n",
       "      <td>3.3</td>\n",
       "    </tr>\n",
       "    <tr>\n",
       "      <th>2</th>\n",
       "      <td>Безукладников Андрей</td>\n",
       "      <td>1</td>\n",
       "      <td>1</td>\n",
       "      <td>3.1</td>\n",
       "      <td>3.2</td>\n",
       "    </tr>\n",
       "    <tr>\n",
       "      <th>3</th>\n",
       "      <td>Беспалов Даниил</td>\n",
       "      <td>1</td>\n",
       "      <td>1</td>\n",
       "      <td>4.0</td>\n",
       "      <td>3.4</td>\n",
       "    </tr>\n",
       "    <tr>\n",
       "      <th>4</th>\n",
       "      <td>Вершинин Алексей</td>\n",
       "      <td>1</td>\n",
       "      <td>1</td>\n",
       "      <td>1.9</td>\n",
       "      <td>3.7</td>\n",
       "    </tr>\n",
       "  </tbody>\n",
       "</table>\n",
       "</div>"
      ],
      "text/plain": [
       "             Unnamed: 0  До обучения  После обучения  До обучения (кол)  \\\n",
       "0       Афисов Димитрис            1               0                1.9   \n",
       "1     Бахтеев Александр            1               1                4.0   \n",
       "2  Безукладников Андрей            1               1                3.1   \n",
       "3       Беспалов Даниил            1               1                4.0   \n",
       "4      Вершинин Алексей            1               1                1.9   \n",
       "\n",
       "   После обучения (кол)  \n",
       "0                   1.4  \n",
       "1                   3.3  \n",
       "2                   3.2  \n",
       "3                   3.4  \n",
       "4                   3.7  "
      ]
     },
     "execution_count": 9,
     "metadata": {},
     "output_type": "execute_result"
    }
   ],
   "source": [
    "df.head()"
   ]
  },
  {
   "cell_type": "markdown",
   "id": "bef28024",
   "metadata": {},
   "source": [
    "##### Описательные статистики"
   ]
  },
  {
   "cell_type": "code",
   "execution_count": 11,
   "id": "606f6dc3",
   "metadata": {},
   "outputs": [
    {
     "data": {
      "text/html": [
       "<div>\n",
       "<style scoped>\n",
       "    .dataframe tbody tr th:only-of-type {\n",
       "        vertical-align: middle;\n",
       "    }\n",
       "\n",
       "    .dataframe tbody tr th {\n",
       "        vertical-align: top;\n",
       "    }\n",
       "\n",
       "    .dataframe thead th {\n",
       "        text-align: right;\n",
       "    }\n",
       "</style>\n",
       "<table border=\"1\" class=\"dataframe\">\n",
       "  <thead>\n",
       "    <tr style=\"text-align: right;\">\n",
       "      <th></th>\n",
       "      <th>До обучения (кол)</th>\n",
       "      <th>После обучения (кол)</th>\n",
       "    </tr>\n",
       "  </thead>\n",
       "  <tbody>\n",
       "    <tr>\n",
       "      <th>count</th>\n",
       "      <td>31.000000</td>\n",
       "      <td>31.000000</td>\n",
       "    </tr>\n",
       "    <tr>\n",
       "      <th>mean</th>\n",
       "      <td>3.012903</td>\n",
       "      <td>3.003226</td>\n",
       "    </tr>\n",
       "    <tr>\n",
       "      <th>std</th>\n",
       "      <td>0.776205</td>\n",
       "      <td>0.678471</td>\n",
       "    </tr>\n",
       "    <tr>\n",
       "      <th>min</th>\n",
       "      <td>1.800000</td>\n",
       "      <td>1.300000</td>\n",
       "    </tr>\n",
       "    <tr>\n",
       "      <th>25%</th>\n",
       "      <td>2.350000</td>\n",
       "      <td>2.850000</td>\n",
       "    </tr>\n",
       "    <tr>\n",
       "      <th>50%</th>\n",
       "      <td>3.100000</td>\n",
       "      <td>3.200000</td>\n",
       "    </tr>\n",
       "    <tr>\n",
       "      <th>75%</th>\n",
       "      <td>3.650000</td>\n",
       "      <td>3.350000</td>\n",
       "    </tr>\n",
       "    <tr>\n",
       "      <th>max</th>\n",
       "      <td>4.000000</td>\n",
       "      <td>4.000000</td>\n",
       "    </tr>\n",
       "  </tbody>\n",
       "</table>\n",
       "</div>"
      ],
      "text/plain": [
       "       До обучения (кол)  После обучения (кол)\n",
       "count          31.000000             31.000000\n",
       "mean            3.012903              3.003226\n",
       "std             0.776205              0.678471\n",
       "min             1.800000              1.300000\n",
       "25%             2.350000              2.850000\n",
       "50%             3.100000              3.200000\n",
       "75%             3.650000              3.350000\n",
       "max             4.000000              4.000000"
      ]
     },
     "execution_count": 11,
     "metadata": {},
     "output_type": "execute_result"
    }
   ],
   "source": [
    "df[['До обучения (кол)','После обучения (кол)']].describe()"
   ]
  },
  {
   "cell_type": "markdown",
   "id": "3bc1b601",
   "metadata": {},
   "source": [
    "##### Гистограммы"
   ]
  },
  {
   "cell_type": "code",
   "execution_count": 57,
   "id": "0f7298c7",
   "metadata": {},
   "outputs": [
    {
     "data": {
      "image/png": "[encoded data removed]",
      "text/plain": [
       "<Figure size 864x288 with 2 Axes>"
      ]
     },
     "metadata": {},
     "output_type": "display_data"
    }
   ],
   "source": [
    "df[['До обучения (кол)','После обучения (кол)']].hist(figsize=(12,4), bins=20);"
   ]
  },
  {
   "cell_type": "markdown",
   "id": "b808796d",
   "metadata": {},
   "source": [
    "##### Критерий знаков"
   ]
  },
  {
   "cell_type": "markdown",
   "id": "f16b4458",
   "metadata": {},
   "source": [
    "$H_0: P(X > Y) = 0.5$ Нулевая гипотеза: эффективность сотрудников не изменилась \\\n",
    "$H_1: P(X > Y) \\ne 0.5$ Обратная гипотеза: эффективность сотрудников изменилась"
   ]
  },
  {
   "cell_type": "markdown",
   "id": "8adc6932",
   "metadata": {},
   "source": [
    "P.S. Ниже для каждого теста будем считать p-value. Общий подход следующий:\n",
    "\n",
    "Если p-value < 0.05, нулевая гипотеза отвергается. Иначе - не отвергается."
   ]
  },
  {
   "cell_type": "code",
   "execution_count": 19,
   "id": "abdbdeb9",
   "metadata": {},
   "outputs": [],
   "source": [
    "from statsmodels.stats.descriptivestats import sign_test"
   ]
  },
  {
   "cell_type": "code",
   "execution_count": 20,
   "id": "c93e416c",
   "metadata": {},
   "outputs": [
    {
     "name": "stdout",
     "output_type": "stream",
     "text": [
      "0.5715881884098053\n"
     ]
    }
   ],
   "source": [
    "_, pvalue = sign_test(df['После обучения (кол)'] - df['До обучения (кол)'])\n",
    "print(pvalue)"
   ]
  },
  {
   "cell_type": "markdown",
   "id": "a6eda7e5",
   "metadata": {},
   "source": [
    "p-value > 0.05, различия между количественными оценками не являются значимыми, они скорее случайны"
   ]
  },
  {
   "cell_type": "markdown",
   "id": "75a8db4d",
   "metadata": {},
   "source": [
    "##### Ранговый тест Уилкоксона для связанных выборок"
   ]
  },
  {
   "cell_type": "markdown",
   "id": "98686f2f",
   "metadata": {},
   "source": [
    "$H_0: Med(X - Y) = 0$ Нулевая гипотеза: эффективность сотрудников не изменилась \\\n",
    "$H_1: Med(X - Y) > 0$ Обратная гипотеза: эффективность сотрудников, проходивших обучение выросла"
   ]
  },
  {
   "cell_type": "code",
   "execution_count": 24,
   "id": "eca6a97e",
   "metadata": {},
   "outputs": [
    {
     "data": {
      "text/plain": [
       "WilcoxonResult(statistic=180.0, pvalue=0.6998539600285487)"
      ]
     },
     "execution_count": 24,
     "metadata": {},
     "output_type": "execute_result"
    }
   ],
   "source": [
    "stats.wilcoxon(df['После обучения (кол)'], df['До обучения (кол)'], alternative='greater')"
   ]
  },
  {
   "cell_type": "markdown",
   "id": "42e54480",
   "metadata": {},
   "source": [
    "Снова p-value > 0.05, различия между количественными оценками не являются значимыми"
   ]
  },
  {
   "cell_type": "markdown",
   "id": "b4d4de7e",
   "metadata": {},
   "source": [
    "##### P.S. Критерий Колмогорова-Смирнова"
   ]
  },
  {
   "cell_type": "code",
   "execution_count": 25,
   "id": "5ba5bb9b",
   "metadata": {},
   "outputs": [
    {
     "data": {
      "text/plain": [
       "KstestResult(statistic=0.16129032258064516, pvalue=0.8234535171851342)"
      ]
     },
     "execution_count": 25,
     "metadata": {},
     "output_type": "execute_result"
    }
   ],
   "source": [
    "stats.ks_2samp(df['После обучения (кол)'], df['До обучения (кол)'])"
   ]
  },
  {
   "cell_type": "markdown",
   "id": "9b62138d",
   "metadata": {},
   "source": [
    "p-value > 0.05, данные оценки эффективности с большой уверенностью родом из одного и того же распределения"
   ]
  },
  {
   "cell_type": "markdown",
   "id": "9becad69",
   "metadata": {},
   "source": [
    "## Выбор подвыборки из группы не проходивших обучение.  Ранговый критерий Манна-Уитни для несвязанных выборок"
   ]
  },
  {
   "cell_type": "markdown",
   "id": "7b7f559f",
   "metadata": {},
   "source": [
    "[О ранговом критерии Манна-Уитни](http://www.machinelearning.ru/wiki/index.php?title=%D0%9A%D1%80%D0%B8%D1%82%D0%B5%D1%80%D0%B8%D0%B9_%D0%A3%D0%B8%D0%BB%D0%BA%D0%BE%D0%BA%D1%81%D0%BE%D0%BD%D0%B0-%D0%9C%D0%B0%D0%BD%D0%BD%D0%B0-%D0%A3%D0%B8%D1%82%D0%BD%D0%B8)\n",
    "\n",
    "Описание:\n",
    "\n",
    "В предположении о схожей потенциальной эффективности у двух групп с одинаковым распределением стажей, пользуемся следующим алгоритмом:\n",
    "\n",
    "1) Рандомно выбираем подвыборку из 31 человека среди непроходивших обучения \n",
    "\n",
    "2) Применяем критерий Колмогорова-Смирнова о схожести распределений (тут допускаем, что стаж распределен непрерывно)\n",
    "\n",
    "3) Если гипотеза из 2) подтверждается, сохраняем подвыборку для дальнейшего исследования\n",
    "\n",
    "4) В дальнейшем будем проводить несколько категориальных экспериментов о схожести разницы оценок со всеми выбранными подвыборками\n",
    "\n",
    "5) Сравниваем относительные разницы двух групп"
   ]
  },
  {
   "cell_type": "code",
   "execution_count": 29,
   "id": "734b0355",
   "metadata": {},
   "outputs": [],
   "source": [
    "df11 = pd.read_excel(\"11.xlsx\", engine='openpyxl', sheet_name=1, header=0)\n",
    "df22 = pd.read_excel(\"22.xlsx\", engine='openpyxl', sheet_name=1, header=0)"
   ]
  },
  {
   "cell_type": "markdown",
   "id": "473d4ba9",
   "metadata": {},
   "source": [
    "##### Вид датасетов"
   ]
  },
  {
   "cell_type": "code",
   "execution_count": 184,
   "id": "c2ffb687",
   "metadata": {},
   "outputs": [
    {
     "data": {
      "text/html": [
       "<div>\n",
       "<style scoped>\n",
       "    .dataframe tbody tr th:only-of-type {\n",
       "        vertical-align: middle;\n",
       "    }\n",
       "\n",
       "    .dataframe tbody tr th {\n",
       "        vertical-align: top;\n",
       "    }\n",
       "\n",
       "    .dataframe thead th {\n",
       "        text-align: right;\n",
       "    }\n",
       "</style>\n",
       "<table border=\"1\" class=\"dataframe\">\n",
       "  <thead>\n",
       "    <tr style=\"text-align: right;\">\n",
       "      <th></th>\n",
       "      <th>Unnamed: 0</th>\n",
       "      <th>До обучения</th>\n",
       "      <th>После обучения</th>\n",
       "      <th>До обучения (кол)</th>\n",
       "      <th>После обучения (кол)</th>\n",
       "      <th>Текущий стаж</th>\n",
       "      <th>Относительная разница</th>\n",
       "    </tr>\n",
       "  </thead>\n",
       "  <tbody>\n",
       "    <tr>\n",
       "      <th>0</th>\n",
       "      <td>Афисов Димитрис</td>\n",
       "      <td>1</td>\n",
       "      <td>0</td>\n",
       "      <td>1.9</td>\n",
       "      <td>1.4</td>\n",
       "      <td>4.019165</td>\n",
       "      <td>-0.263158</td>\n",
       "    </tr>\n",
       "    <tr>\n",
       "      <th>1</th>\n",
       "      <td>Бахтеев Александр</td>\n",
       "      <td>1</td>\n",
       "      <td>1</td>\n",
       "      <td>4.0</td>\n",
       "      <td>3.3</td>\n",
       "      <td>5.021218</td>\n",
       "      <td>-0.175000</td>\n",
       "    </tr>\n",
       "    <tr>\n",
       "      <th>2</th>\n",
       "      <td>Безукладников Андрей</td>\n",
       "      <td>1</td>\n",
       "      <td>1</td>\n",
       "      <td>3.1</td>\n",
       "      <td>3.2</td>\n",
       "      <td>14.655715</td>\n",
       "      <td>0.032258</td>\n",
       "    </tr>\n",
       "    <tr>\n",
       "      <th>3</th>\n",
       "      <td>Беспалов Даниил</td>\n",
       "      <td>1</td>\n",
       "      <td>1</td>\n",
       "      <td>4.0</td>\n",
       "      <td>3.4</td>\n",
       "      <td>13.073238</td>\n",
       "      <td>-0.150000</td>\n",
       "    </tr>\n",
       "    <tr>\n",
       "      <th>4</th>\n",
       "      <td>Вершинин Алексей</td>\n",
       "      <td>1</td>\n",
       "      <td>1</td>\n",
       "      <td>1.9</td>\n",
       "      <td>3.7</td>\n",
       "      <td>3.301848</td>\n",
       "      <td>0.947368</td>\n",
       "    </tr>\n",
       "  </tbody>\n",
       "</table>\n",
       "</div>"
      ],
      "text/plain": [
       "             Unnamed: 0  До обучения  После обучения  До обучения (кол)  \\\n",
       "0       Афисов Димитрис            1               0                1.9   \n",
       "1     Бахтеев Александр            1               1                4.0   \n",
       "2  Безукладников Андрей            1               1                3.1   \n",
       "3       Беспалов Даниил            1               1                4.0   \n",
       "4      Вершинин Алексей            1               1                1.9   \n",
       "\n",
       "   После обучения (кол)  Текущий стаж  Относительная разница  \n",
       "0                   1.4      4.019165              -0.263158  \n",
       "1                   3.3      5.021218              -0.175000  \n",
       "2                   3.2     14.655715               0.032258  \n",
       "3                   3.4     13.073238              -0.150000  \n",
       "4                   3.7      3.301848               0.947368  "
      ]
     },
     "execution_count": 184,
     "metadata": {},
     "output_type": "execute_result"
    }
   ],
   "source": [
    "df11.head()"
   ]
  },
  {
   "cell_type": "code",
   "execution_count": 31,
   "id": "32d9f781",
   "metadata": {},
   "outputs": [
    {
     "data": {
      "text/html": [
       "<div>\n",
       "<style scoped>\n",
       "    .dataframe tbody tr th:only-of-type {\n",
       "        vertical-align: middle;\n",
       "    }\n",
       "\n",
       "    .dataframe tbody tr th {\n",
       "        vertical-align: top;\n",
       "    }\n",
       "\n",
       "    .dataframe thead th {\n",
       "        text-align: right;\n",
       "    }\n",
       "</style>\n",
       "<table border=\"1\" class=\"dataframe\">\n",
       "  <thead>\n",
       "    <tr style=\"text-align: right;\">\n",
       "      <th></th>\n",
       "      <th>Unnamed: 0</th>\n",
       "      <th>2021</th>\n",
       "      <th>2022</th>\n",
       "      <th>2021 (кол)</th>\n",
       "      <th>2022 (кол)</th>\n",
       "      <th>Текущий стаж</th>\n",
       "    </tr>\n",
       "  </thead>\n",
       "  <tbody>\n",
       "    <tr>\n",
       "      <th>0</th>\n",
       "      <td>Абашева Ульяна</td>\n",
       "      <td>1</td>\n",
       "      <td>0</td>\n",
       "      <td>3.0</td>\n",
       "      <td>2.0</td>\n",
       "      <td>11.006160</td>\n",
       "    </tr>\n",
       "    <tr>\n",
       "      <th>1</th>\n",
       "      <td>Абрамов Василий</td>\n",
       "      <td>1</td>\n",
       "      <td>1</td>\n",
       "      <td>3.0</td>\n",
       "      <td>3.0</td>\n",
       "      <td>11.868583</td>\n",
       "    </tr>\n",
       "    <tr>\n",
       "      <th>2</th>\n",
       "      <td>Азанов Александр</td>\n",
       "      <td>1</td>\n",
       "      <td>1</td>\n",
       "      <td>2.7</td>\n",
       "      <td>4.0</td>\n",
       "      <td>3.033539</td>\n",
       "    </tr>\n",
       "    <tr>\n",
       "      <th>3</th>\n",
       "      <td>Алалыкин Тимофей</td>\n",
       "      <td>1</td>\n",
       "      <td>0</td>\n",
       "      <td>4.0</td>\n",
       "      <td>2.0</td>\n",
       "      <td>13.073238</td>\n",
       "    </tr>\n",
       "    <tr>\n",
       "      <th>4</th>\n",
       "      <td>Бартов Олег</td>\n",
       "      <td>1</td>\n",
       "      <td>1</td>\n",
       "      <td>4.0</td>\n",
       "      <td>4.0</td>\n",
       "      <td>6.368241</td>\n",
       "    </tr>\n",
       "  </tbody>\n",
       "</table>\n",
       "</div>"
      ],
      "text/plain": [
       "         Unnamed: 0  2021  2022  2021 (кол)  2022 (кол)  Текущий стаж\n",
       "0    Абашева Ульяна     1     0         3.0         2.0     11.006160\n",
       "1   Абрамов Василий     1     1         3.0         3.0     11.868583\n",
       "2  Азанов Александр     1     1         2.7         4.0      3.033539\n",
       "3  Алалыкин Тимофей     1     0         4.0         2.0     13.073238\n",
       "4       Бартов Олег     1     1         4.0         4.0      6.368241"
      ]
     },
     "execution_count": 31,
     "metadata": {},
     "output_type": "execute_result"
    }
   ],
   "source": [
    "df22.head()"
   ]
  },
  {
   "cell_type": "markdown",
   "id": "acd485e9",
   "metadata": {},
   "source": [
    "##### Описательные статистики датасетов"
   ]
  },
  {
   "cell_type": "code",
   "execution_count": 34,
   "id": "d5c3d453",
   "metadata": {},
   "outputs": [
    {
     "data": {
      "text/html": [
       "<div>\n",
       "<style scoped>\n",
       "    .dataframe tbody tr th:only-of-type {\n",
       "        vertical-align: middle;\n",
       "    }\n",
       "\n",
       "    .dataframe tbody tr th {\n",
       "        vertical-align: top;\n",
       "    }\n",
       "\n",
       "    .dataframe thead th {\n",
       "        text-align: right;\n",
       "    }\n",
       "</style>\n",
       "<table border=\"1\" class=\"dataframe\">\n",
       "  <thead>\n",
       "    <tr style=\"text-align: right;\">\n",
       "      <th></th>\n",
       "      <th>До обучения</th>\n",
       "      <th>После обучения</th>\n",
       "      <th>До обучения (кол)</th>\n",
       "      <th>После обучения (кол)</th>\n",
       "      <th>Текущий стаж</th>\n",
       "    </tr>\n",
       "  </thead>\n",
       "  <tbody>\n",
       "    <tr>\n",
       "      <th>count</th>\n",
       "      <td>31.000000</td>\n",
       "      <td>31.000000</td>\n",
       "      <td>31.000000</td>\n",
       "      <td>31.000000</td>\n",
       "      <td>31.000000</td>\n",
       "    </tr>\n",
       "    <tr>\n",
       "      <th>mean</th>\n",
       "      <td>0.903226</td>\n",
       "      <td>0.838710</td>\n",
       "      <td>3.012903</td>\n",
       "      <td>3.003226</td>\n",
       "      <td>7.365878</td>\n",
       "    </tr>\n",
       "    <tr>\n",
       "      <th>std</th>\n",
       "      <td>0.300537</td>\n",
       "      <td>0.373878</td>\n",
       "      <td>0.776205</td>\n",
       "      <td>0.678471</td>\n",
       "      <td>3.657396</td>\n",
       "    </tr>\n",
       "    <tr>\n",
       "      <th>min</th>\n",
       "      <td>0.000000</td>\n",
       "      <td>0.000000</td>\n",
       "      <td>1.800000</td>\n",
       "      <td>1.300000</td>\n",
       "      <td>2.762491</td>\n",
       "    </tr>\n",
       "    <tr>\n",
       "      <th>25%</th>\n",
       "      <td>1.000000</td>\n",
       "      <td>1.000000</td>\n",
       "      <td>2.350000</td>\n",
       "      <td>2.850000</td>\n",
       "      <td>4.651608</td>\n",
       "    </tr>\n",
       "    <tr>\n",
       "      <th>50%</th>\n",
       "      <td>1.000000</td>\n",
       "      <td>1.000000</td>\n",
       "      <td>3.100000</td>\n",
       "      <td>3.200000</td>\n",
       "      <td>6.135524</td>\n",
       "    </tr>\n",
       "    <tr>\n",
       "      <th>75%</th>\n",
       "      <td>1.000000</td>\n",
       "      <td>1.000000</td>\n",
       "      <td>3.650000</td>\n",
       "      <td>3.350000</td>\n",
       "      <td>10.150582</td>\n",
       "    </tr>\n",
       "    <tr>\n",
       "      <th>max</th>\n",
       "      <td>1.000000</td>\n",
       "      <td>1.000000</td>\n",
       "      <td>4.000000</td>\n",
       "      <td>4.000000</td>\n",
       "      <td>14.655715</td>\n",
       "    </tr>\n",
       "  </tbody>\n",
       "</table>\n",
       "</div>"
      ],
      "text/plain": [
       "       До обучения  После обучения  До обучения (кол)  После обучения (кол)  \\\n",
       "count    31.000000       31.000000          31.000000             31.000000   \n",
       "mean      0.903226        0.838710           3.012903              3.003226   \n",
       "std       0.300537        0.373878           0.776205              0.678471   \n",
       "min       0.000000        0.000000           1.800000              1.300000   \n",
       "25%       1.000000        1.000000           2.350000              2.850000   \n",
       "50%       1.000000        1.000000           3.100000              3.200000   \n",
       "75%       1.000000        1.000000           3.650000              3.350000   \n",
       "max       1.000000        1.000000           4.000000              4.000000   \n",
       "\n",
       "       Текущий стаж  \n",
       "count     31.000000  \n",
       "mean       7.365878  \n",
       "std        3.657396  \n",
       "min        2.762491  \n",
       "25%        4.651608  \n",
       "50%        6.135524  \n",
       "75%       10.150582  \n",
       "max       14.655715  "
      ]
     },
     "execution_count": 34,
     "metadata": {},
     "output_type": "execute_result"
    }
   ],
   "source": [
    "df11.describe()"
   ]
  },
  {
   "cell_type": "code",
   "execution_count": 35,
   "id": "86b1f5cf",
   "metadata": {},
   "outputs": [
    {
     "data": {
      "text/html": [
       "<div>\n",
       "<style scoped>\n",
       "    .dataframe tbody tr th:only-of-type {\n",
       "        vertical-align: middle;\n",
       "    }\n",
       "\n",
       "    .dataframe tbody tr th {\n",
       "        vertical-align: top;\n",
       "    }\n",
       "\n",
       "    .dataframe thead th {\n",
       "        text-align: right;\n",
       "    }\n",
       "</style>\n",
       "<table border=\"1\" class=\"dataframe\">\n",
       "  <thead>\n",
       "    <tr style=\"text-align: right;\">\n",
       "      <th></th>\n",
       "      <th>2021</th>\n",
       "      <th>2022</th>\n",
       "      <th>2021 (кол)</th>\n",
       "      <th>2022 (кол)</th>\n",
       "      <th>Текущий стаж</th>\n",
       "    </tr>\n",
       "  </thead>\n",
       "  <tbody>\n",
       "    <tr>\n",
       "      <th>count</th>\n",
       "      <td>151.000000</td>\n",
       "      <td>151.000000</td>\n",
       "      <td>151.000000</td>\n",
       "      <td>151.000000</td>\n",
       "      <td>151.000000</td>\n",
       "    </tr>\n",
       "    <tr>\n",
       "      <th>mean</th>\n",
       "      <td>0.860927</td>\n",
       "      <td>0.821192</td>\n",
       "      <td>3.000000</td>\n",
       "      <td>3.011921</td>\n",
       "      <td>8.107628</td>\n",
       "    </tr>\n",
       "    <tr>\n",
       "      <th>std</th>\n",
       "      <td>0.347174</td>\n",
       "      <td>0.384467</td>\n",
       "      <td>0.842219</td>\n",
       "      <td>0.804896</td>\n",
       "      <td>3.920807</td>\n",
       "    </tr>\n",
       "    <tr>\n",
       "      <th>min</th>\n",
       "      <td>0.000000</td>\n",
       "      <td>0.000000</td>\n",
       "      <td>1.000000</td>\n",
       "      <td>1.000000</td>\n",
       "      <td>1.653662</td>\n",
       "    </tr>\n",
       "    <tr>\n",
       "      <th>25%</th>\n",
       "      <td>1.000000</td>\n",
       "      <td>1.000000</td>\n",
       "      <td>2.650000</td>\n",
       "      <td>2.500000</td>\n",
       "      <td>4.670773</td>\n",
       "    </tr>\n",
       "    <tr>\n",
       "      <th>50%</th>\n",
       "      <td>1.000000</td>\n",
       "      <td>1.000000</td>\n",
       "      <td>3.000000</td>\n",
       "      <td>3.000000</td>\n",
       "      <td>8.320329</td>\n",
       "    </tr>\n",
       "    <tr>\n",
       "      <th>75%</th>\n",
       "      <td>1.000000</td>\n",
       "      <td>1.000000</td>\n",
       "      <td>3.900000</td>\n",
       "      <td>3.800000</td>\n",
       "      <td>11.092402</td>\n",
       "    </tr>\n",
       "    <tr>\n",
       "      <th>max</th>\n",
       "      <td>1.000000</td>\n",
       "      <td>1.000000</td>\n",
       "      <td>4.000000</td>\n",
       "      <td>4.000000</td>\n",
       "      <td>16.175222</td>\n",
       "    </tr>\n",
       "  </tbody>\n",
       "</table>\n",
       "</div>"
      ],
      "text/plain": [
       "             2021        2022  2021 (кол)  2022 (кол)  Текущий стаж\n",
       "count  151.000000  151.000000  151.000000  151.000000    151.000000\n",
       "mean     0.860927    0.821192    3.000000    3.011921      8.107628\n",
       "std      0.347174    0.384467    0.842219    0.804896      3.920807\n",
       "min      0.000000    0.000000    1.000000    1.000000      1.653662\n",
       "25%      1.000000    1.000000    2.650000    2.500000      4.670773\n",
       "50%      1.000000    1.000000    3.000000    3.000000      8.320329\n",
       "75%      1.000000    1.000000    3.900000    3.800000     11.092402\n",
       "max      1.000000    1.000000    4.000000    4.000000     16.175222"
      ]
     },
     "execution_count": 35,
     "metadata": {},
     "output_type": "execute_result"
    }
   ],
   "source": [
    "df22.describe()"
   ]
  },
  {
   "cell_type": "markdown",
   "id": "97d1f08c",
   "metadata": {},
   "source": [
    "##### Гистограммы стажей"
   ]
  },
  {
   "cell_type": "code",
   "execution_count": 116,
   "id": "245406e7",
   "metadata": {},
   "outputs": [
    {
     "data": {
      "image/png": "[encoded data removed]",
      "text/plain": [
       "<Figure size 576x216 with 1 Axes>"
      ]
     },
     "metadata": {},
     "output_type": "display_data"
    },
    {
     "data": {
      "image/png": "[encoded data removed]",
      "text/plain": [
       "<Figure size 576x216 with 1 Axes>"
      ]
     },
     "metadata": {},
     "output_type": "display_data"
    }
   ],
   "source": [
    "df11[['Текущий стаж']].hist(figsize=(8,3), bins=10);\n",
    "df22[['Текущий стаж']].hist(figsize=(8,3), bins=10);"
   ]
  },
  {
   "cell_type": "markdown",
   "id": "de5d9fea",
   "metadata": {},
   "source": [
    "##### Критерий Колмогорова-Смирнова на всей выборке"
   ]
  },
  {
   "cell_type": "code",
   "execution_count": 59,
   "id": "e4a19919",
   "metadata": {},
   "outputs": [
    {
     "data": {
      "text/plain": [
       "KstestResult(statistic=0.20807519760734886, pvalue=0.1843740252818148)"
      ]
     },
     "execution_count": 59,
     "metadata": {},
     "output_type": "execute_result"
    }
   ],
   "source": [
    "stats.ks_2samp(df11['Текущий стаж'], df22['Текущий стаж'])"
   ]
  },
  {
   "cell_type": "code",
   "execution_count": 60,
   "id": "5faab9b9",
   "metadata": {},
   "outputs": [],
   "source": [
    "_, p_value_ks = stats.ks_2samp(df11['Текущий стаж'], df22['Текущий стаж'])"
   ]
  },
  {
   "cell_type": "code",
   "execution_count": 61,
   "id": "fca201ec",
   "metadata": {},
   "outputs": [
    {
     "data": {
      "text/plain": [
       "0.1843740252818148"
      ]
     },
     "execution_count": 61,
     "metadata": {},
     "output_type": "execute_result"
    }
   ],
   "source": [
    "p_value_ks"
   ]
  },
  {
   "cell_type": "markdown",
   "id": "df10ff1d",
   "metadata": {},
   "source": [
    "Даже на всей выборке гипотеза о сходстве распределений стажей не отвергается. Поскольку в обе выборки попали сотрудники с высокими должностями, можно сделать вывод о том, что в СВЭЛ редко берут людей \"со стороны\" сразу на высокую позицию :) "
   ]
  },
  {
   "cell_type": "markdown",
   "id": "71f7e982",
   "metadata": {},
   "source": [
    "##### Проверка допущения о сходстве изменений оценок эффективности (3 пункт про стаж)"
   ]
  },
  {
   "cell_type": "code",
   "execution_count": 105,
   "id": "a5c9dba6",
   "metadata": {},
   "outputs": [],
   "source": [
    "df11['Относительная разница'] = (df11['После обучения (кол)'] - df11['До обучения (кол)']) / df11['До обучения (кол)']"
   ]
  },
  {
   "cell_type": "code",
   "execution_count": 108,
   "id": "c5dbd554",
   "metadata": {},
   "outputs": [],
   "source": [
    "df22['Относительная разница'] = (df22['2022 (кол)'] - df22['2021 (кол)']) / df22['2021 (кол)']"
   ]
  },
  {
   "cell_type": "code",
   "execution_count": 106,
   "id": "ffe372df",
   "metadata": {},
   "outputs": [
    {
     "data": {
      "text/html": [
       "<div>\n",
       "<style scoped>\n",
       "    .dataframe tbody tr th:only-of-type {\n",
       "        vertical-align: middle;\n",
       "    }\n",
       "\n",
       "    .dataframe tbody tr th {\n",
       "        vertical-align: top;\n",
       "    }\n",
       "\n",
       "    .dataframe thead th {\n",
       "        text-align: right;\n",
       "    }\n",
       "</style>\n",
       "<table border=\"1\" class=\"dataframe\">\n",
       "  <thead>\n",
       "    <tr style=\"text-align: right;\">\n",
       "      <th></th>\n",
       "      <th>Unnamed: 0</th>\n",
       "      <th>До обучения</th>\n",
       "      <th>После обучения</th>\n",
       "      <th>До обучения (кол)</th>\n",
       "      <th>После обучения (кол)</th>\n",
       "      <th>Текущий стаж</th>\n",
       "      <th>Относительная разница</th>\n",
       "    </tr>\n",
       "  </thead>\n",
       "  <tbody>\n",
       "    <tr>\n",
       "      <th>0</th>\n",
       "      <td>Афисов Димитрис</td>\n",
       "      <td>1</td>\n",
       "      <td>0</td>\n",
       "      <td>1.9</td>\n",
       "      <td>1.4</td>\n",
       "      <td>4.019165</td>\n",
       "      <td>-0.263158</td>\n",
       "    </tr>\n",
       "    <tr>\n",
       "      <th>1</th>\n",
       "      <td>Бахтеев Александр</td>\n",
       "      <td>1</td>\n",
       "      <td>1</td>\n",
       "      <td>4.0</td>\n",
       "      <td>3.3</td>\n",
       "      <td>5.021218</td>\n",
       "      <td>-0.175000</td>\n",
       "    </tr>\n",
       "    <tr>\n",
       "      <th>2</th>\n",
       "      <td>Безукладников Андрей</td>\n",
       "      <td>1</td>\n",
       "      <td>1</td>\n",
       "      <td>3.1</td>\n",
       "      <td>3.2</td>\n",
       "      <td>14.655715</td>\n",
       "      <td>0.032258</td>\n",
       "    </tr>\n",
       "    <tr>\n",
       "      <th>3</th>\n",
       "      <td>Беспалов Даниил</td>\n",
       "      <td>1</td>\n",
       "      <td>1</td>\n",
       "      <td>4.0</td>\n",
       "      <td>3.4</td>\n",
       "      <td>13.073238</td>\n",
       "      <td>-0.150000</td>\n",
       "    </tr>\n",
       "    <tr>\n",
       "      <th>4</th>\n",
       "      <td>Вершинин Алексей</td>\n",
       "      <td>1</td>\n",
       "      <td>1</td>\n",
       "      <td>1.9</td>\n",
       "      <td>3.7</td>\n",
       "      <td>3.301848</td>\n",
       "      <td>0.947368</td>\n",
       "    </tr>\n",
       "  </tbody>\n",
       "</table>\n",
       "</div>"
      ],
      "text/plain": [
       "             Unnamed: 0  До обучения  После обучения  До обучения (кол)  \\\n",
       "0       Афисов Димитрис            1               0                1.9   \n",
       "1     Бахтеев Александр            1               1                4.0   \n",
       "2  Безукладников Андрей            1               1                3.1   \n",
       "3       Беспалов Даниил            1               1                4.0   \n",
       "4      Вершинин Алексей            1               1                1.9   \n",
       "\n",
       "   После обучения (кол)  Текущий стаж  Относительная разница  \n",
       "0                   1.4      4.019165              -0.263158  \n",
       "1                   3.3      5.021218              -0.175000  \n",
       "2                   3.2     14.655715               0.032258  \n",
       "3                   3.4     13.073238              -0.150000  \n",
       "4                   3.7      3.301848               0.947368  "
      ]
     },
     "execution_count": 106,
     "metadata": {},
     "output_type": "execute_result"
    }
   ],
   "source": [
    "df11.head()"
   ]
  },
  {
   "cell_type": "code",
   "execution_count": 109,
   "id": "ba25173c",
   "metadata": {},
   "outputs": [
    {
     "data": {
      "text/plain": [
       "KstestResult(statistic=0.19162572099978636, pvalue=0.2614840338336313)"
      ]
     },
     "execution_count": 109,
     "metadata": {},
     "output_type": "execute_result"
    }
   ],
   "source": [
    "stats.ks_2samp(df11['Относительная разница'], df22['Относительная разница'])"
   ]
  },
  {
   "cell_type": "markdown",
   "id": "7a265f1b",
   "metadata": {},
   "source": [
    "Гипотеза об одинаковом распределении относительных разниц оценок принимается. \\\n",
    "Таким образом ниже сможем использовать критерий Манна-Уитни для несвязанных выборок"
   ]
  },
  {
   "cell_type": "markdown",
   "id": "049a49dc",
   "metadata": {},
   "source": [
    "##### Подвыборки из группы сотрудников не проходивших обучение"
   ]
  },
  {
   "cell_type": "markdown",
   "id": "aa927236",
   "metadata": {},
   "source": [
    "Хотим получить схожие подгруппы по стажу. Берем рандомно 31 человек из группы не проходивших обучение и проверяем по критерию Колмогорова-Смирнова схожесть распределений. Если p_value > 0.4 гипотеза уверенно не отвергается, будет собирать такие подвыборки"
   ]
  },
  {
   "cell_type": "code",
   "execution_count": 95,
   "id": "b8f67751",
   "metadata": {},
   "outputs": [],
   "source": [
    "results = []\n",
    "p_values = []\n",
    "for i in range(30):\n",
    "    df_i = df22.sample(n=31)\n",
    "    _, p_value_ks_i = stats.ks_2samp(df11['Текущий стаж'], df_i['Текущий стаж'])\n",
    "    if p_value_ks_i > 0.4:\n",
    "        results.append(df_i)\n",
    "        p_values.append(p_value_ks_i)"
   ]
  },
  {
   "cell_type": "code",
   "execution_count": 96,
   "id": "fb686989",
   "metadata": {},
   "outputs": [
    {
     "data": {
      "text/plain": [
       "[0.999115261755522,\n",
       " 0.41354510011947465,\n",
       " 0.615053935325554,\n",
       " 0.41354510011947465,\n",
       " 0.8234535171851342,\n",
       " 0.8234535171851342,\n",
       " 0.8234535171851342,\n",
       " 0.8234535171851342,\n",
       " 0.615053935325554,\n",
       " 0.41354510011947465,\n",
       " 0.8234535171851342,\n",
       " 0.41354510011947465,\n",
       " 0.9634297148886908,\n",
       " 0.9634297148886908,\n",
       " 0.8234535171851342,\n",
       " 0.41354510011947465,\n",
       " 0.8234535171851342,\n",
       " 0.8234535171851342,\n",
       " 0.8234535171851342]"
      ]
     },
     "execution_count": 96,
     "metadata": {},
     "output_type": "execute_result"
    }
   ],
   "source": [
    "p_values"
   ]
  },
  {
   "cell_type": "markdown",
   "id": "514e81e1",
   "metadata": {},
   "source": [
    "Как видим, первая рандомная подгруппа получилось практически идентичной по стажу с группой проходившей обучение. Посмотрим на гистограммы распределения."
   ]
  },
  {
   "cell_type": "code",
   "execution_count": 98,
   "id": "5003767c",
   "metadata": {},
   "outputs": [
    {
     "data": {
      "text/html": [
       "<div>\n",
       "<style scoped>\n",
       "    .dataframe tbody tr th:only-of-type {\n",
       "        vertical-align: middle;\n",
       "    }\n",
       "\n",
       "    .dataframe tbody tr th {\n",
       "        vertical-align: top;\n",
       "    }\n",
       "\n",
       "    .dataframe thead th {\n",
       "        text-align: right;\n",
       "    }\n",
       "</style>\n",
       "<table border=\"1\" class=\"dataframe\">\n",
       "  <thead>\n",
       "    <tr style=\"text-align: right;\">\n",
       "      <th></th>\n",
       "      <th>Unnamed: 0</th>\n",
       "      <th>2021</th>\n",
       "      <th>2022</th>\n",
       "      <th>2021 (кол)</th>\n",
       "      <th>2022 (кол)</th>\n",
       "      <th>Текущий стаж</th>\n",
       "    </tr>\n",
       "  </thead>\n",
       "  <tbody>\n",
       "    <tr>\n",
       "      <th>120</th>\n",
       "      <td>Семенов Владимир</td>\n",
       "      <td>1</td>\n",
       "      <td>1</td>\n",
       "      <td>4.0</td>\n",
       "      <td>3.0</td>\n",
       "      <td>5.177276</td>\n",
       "    </tr>\n",
       "    <tr>\n",
       "      <th>7</th>\n",
       "      <td>Безумов Андрей</td>\n",
       "      <td>1</td>\n",
       "      <td>0</td>\n",
       "      <td>3.0</td>\n",
       "      <td>2.0</td>\n",
       "      <td>11.025325</td>\n",
       "    </tr>\n",
       "    <tr>\n",
       "      <th>95</th>\n",
       "      <td>Обухова Ольга</td>\n",
       "      <td>1</td>\n",
       "      <td>1</td>\n",
       "      <td>3.0</td>\n",
       "      <td>3.0</td>\n",
       "      <td>12.980151</td>\n",
       "    </tr>\n",
       "    <tr>\n",
       "      <th>88</th>\n",
       "      <td>Мельников Владимир</td>\n",
       "      <td>1</td>\n",
       "      <td>1</td>\n",
       "      <td>2.7</td>\n",
       "      <td>2.9</td>\n",
       "      <td>11.635866</td>\n",
       "    </tr>\n",
       "    <tr>\n",
       "      <th>45</th>\n",
       "      <td>Жемчужников Евгений</td>\n",
       "      <td>1</td>\n",
       "      <td>1</td>\n",
       "      <td>4.0</td>\n",
       "      <td>3.0</td>\n",
       "      <td>13.073238</td>\n",
       "    </tr>\n",
       "  </tbody>\n",
       "</table>\n",
       "</div>"
      ],
      "text/plain": [
       "              Unnamed: 0  2021  2022  2021 (кол)  2022 (кол)  Текущий стаж\n",
       "120     Семенов Владимир     1     1         4.0         3.0      5.177276\n",
       "7         Безумов Андрей     1     0         3.0         2.0     11.025325\n",
       "95         Обухова Ольга     1     1         3.0         3.0     12.980151\n",
       "88    Мельников Владимир     1     1         2.7         2.9     11.635866\n",
       "45   Жемчужников Евгений     1     1         4.0         3.0     13.073238"
      ]
     },
     "execution_count": 98,
     "metadata": {},
     "output_type": "execute_result"
    }
   ],
   "source": [
    "results[0].head(5)"
   ]
  },
  {
   "cell_type": "code",
   "execution_count": 117,
   "id": "51d624b5",
   "metadata": {},
   "outputs": [
    {
     "data": {
      "image/png": "[encoded data removed]",
      "text/plain": [
       "<Figure size 576x216 with 1 Axes>"
      ]
     },
     "metadata": {},
     "output_type": "display_data"
    },
    {
     "data": {
      "image/png": "[encoded data removed]",
      "text/plain": [
       "<Figure size 576x216 with 1 Axes>"
      ]
     },
     "metadata": {},
     "output_type": "display_data"
    }
   ],
   "source": [
    "df11[['Текущий стаж']].hist(figsize=(8,3), bins=8);\n",
    "results[0][['Текущий стаж']].hist(figsize=(8,3), bins=8);"
   ]
  },
  {
   "cell_type": "markdown",
   "id": "8efc49a1",
   "metadata": {},
   "source": [
    "##### Критерий Манна-Уитни"
   ]
  },
  {
   "cell_type": "markdown",
   "id": "b6500be8",
   "metadata": {},
   "source": [
    "$H_0: f_X(x) = f_Y(x)$ Нулевая гипотеза: Количественная оценка у сотрудников обеих групп изменяется одинаково\\\n",
    "$H_1: f_X(x) = f_Y(x + \\delta), \\delta > 0$ Альтернативная гипотеза: Количественная оценка у сотрудников, прошедших обучение изменяется в положительную сторону относительно сотрудников первой группы"
   ]
  },
  {
   "cell_type": "code",
   "execution_count": 111,
   "id": "06f771a6",
   "metadata": {},
   "outputs": [],
   "source": [
    "results[0]['Относительная разница'] = (results[0]['2022 (кол)'] - results[0]['2021 (кол)']) / results[0]['2021 (кол)']"
   ]
  },
  {
   "cell_type": "code",
   "execution_count": 112,
   "id": "492d5ca9",
   "metadata": {},
   "outputs": [
    {
     "data": {
      "text/plain": [
       "MannwhitneyuResult(statistic=453.5, pvalue=0.651556842455695)"
      ]
     },
     "execution_count": 112,
     "metadata": {},
     "output_type": "execute_result"
    }
   ],
   "source": [
    "stats.mannwhitneyu(df11['Относительная разница'], results[0]['Относительная разница'], alternative='greater')"
   ]
  },
  {
   "cell_type": "markdown",
   "id": "d0b9c7d5",
   "metadata": {},
   "source": [
    "Как видим, на самой первой подвыборке нулевая гипотеза принимается. Посмотрим на остальных подвыборках."
   ]
  },
  {
   "cell_type": "code",
   "execution_count": 113,
   "id": "e4f78409",
   "metadata": {},
   "outputs": [],
   "source": [
    "results_p = []\n",
    "for element in results:\n",
    "    element['Относительная разница'] = (element['2022 (кол)'] - element['2021 (кол)']) / element['2021 (кол)']\n",
    "    _, pv = stats.mannwhitneyu(df11['Относительная разница'], element['Относительная разница'], alternative='greater')\n",
    "    results_p.append(pv)"
   ]
  },
  {
   "cell_type": "code",
   "execution_count": 118,
   "id": "f6ca23e7",
   "metadata": {},
   "outputs": [],
   "source": [
    "pd_result = pd.DataFrame()\n",
    "pd_result['p_value'] = results_p"
   ]
  },
  {
   "cell_type": "code",
   "execution_count": 120,
   "id": "a6748767",
   "metadata": {},
   "outputs": [
    {
     "data": {
      "text/html": [
       "<div>\n",
       "<style scoped>\n",
       "    .dataframe tbody tr th:only-of-type {\n",
       "        vertical-align: middle;\n",
       "    }\n",
       "\n",
       "    .dataframe tbody tr th {\n",
       "        vertical-align: top;\n",
       "    }\n",
       "\n",
       "    .dataframe thead th {\n",
       "        text-align: right;\n",
       "    }\n",
       "</style>\n",
       "<table border=\"1\" class=\"dataframe\">\n",
       "  <thead>\n",
       "    <tr style=\"text-align: right;\">\n",
       "      <th></th>\n",
       "      <th>p_value</th>\n",
       "    </tr>\n",
       "  </thead>\n",
       "  <tbody>\n",
       "    <tr>\n",
       "      <th>0</th>\n",
       "      <td>0.651557</td>\n",
       "    </tr>\n",
       "    <tr>\n",
       "      <th>1</th>\n",
       "      <td>0.505650</td>\n",
       "    </tr>\n",
       "    <tr>\n",
       "      <th>2</th>\n",
       "      <td>0.699217</td>\n",
       "    </tr>\n",
       "    <tr>\n",
       "      <th>3</th>\n",
       "      <td>0.468995</td>\n",
       "    </tr>\n",
       "    <tr>\n",
       "      <th>4</th>\n",
       "      <td>0.937115</td>\n",
       "    </tr>\n",
       "  </tbody>\n",
       "</table>\n",
       "</div>"
      ],
      "text/plain": [
       "    p_value\n",
       "0  0.651557\n",
       "1  0.505650\n",
       "2  0.699217\n",
       "3  0.468995\n",
       "4  0.937115"
      ]
     },
     "execution_count": 120,
     "metadata": {},
     "output_type": "execute_result"
    }
   ],
   "source": [
    "pd_result.head()"
   ]
  },
  {
   "cell_type": "code",
   "execution_count": 114,
   "id": "9eb69ad0",
   "metadata": {},
   "outputs": [
    {
     "name": "stdout",
     "output_type": "stream",
     "text": [
      "[0.651556842455695, 0.5056501006098247, 0.699217491993519, 0.468995392831713, 0.9371151788278804, 0.6515311462485674, 0.8521484917728593, 0.9336154048170793, 0.4605151794469652, 0.7038240449901516, 0.7050249870220673, 0.7677299365071911, 0.46039681204837746, 0.594928632719157, 0.37483356908229093, 0.4131232680067856, 0.9822882945734434, 0.8696141362580905, 0.7266393246800726]\n"
     ]
    }
   ],
   "source": [
    "print(results_p)"
   ]
  },
  {
   "cell_type": "markdown",
   "id": "641fb1fd",
   "metadata": {},
   "source": [
    "Увы, во всех подвыборках (аж 19) уверенно принимается нулевая гипотеза"
   ]
  },
  {
   "cell_type": "markdown",
   "id": "e3a60558",
   "metadata": {},
   "source": [
    "### Коэффициент Фи-Гилфорда"
   ]
  },
  {
   "cell_type": "markdown",
   "id": "cbbbef91",
   "metadata": {},
   "source": [
    "[О коэффициенте Гилфорда](https://bss-around.ru/articles/?article=/arch/calculate&sid=&psw=#:~:text=%D0%9A%D0%BE%D1%8D%D1%84%D1%84%D0%B8%D1%86%D0%B8%D0%B5%D0%BD%D1%82%20%D0%BA%D0%BE%D1%80%D1%80%D0%B5%D0%BB%D1%8F%D1%86%D0%B8%D0%B8%20%D0%93%D0%B8%D0%BB%D1%84%D0%BE%D1%80%D0%B4%D0%B0%20%2D%20%D1%88%D0%B8%D1%80%D0%BE%D0%BA%D0%BE%20%D0%B8%D1%81%D0%BF%D0%BE%D0%BB%D1%8C%D0%B7%D1%83%D0%B5%D0%BC%D1%8B%D0%B9,%D0%B8%20%D1%81%D1%82%D0%BE%D0%BB%D0%B1%D1%86%D0%BE%D0%B2%204%2D%D0%BA%D0%BB%D0%B5%D1%82%D0%BE%D1%87%D0%BD%D0%BE%D0%B9%20%D1%82%D0%B0%D0%B1%D0%BB%D0%B8%D1%86%D1%8B.)\n",
    "\n",
    "Описание:\n",
    "\n",
    "Исследуемым бинарным признаком, будет следующий:\n",
    "\n",
    "$$A = \\{Сотрудник \\;\\; проходил \\;\\; обучение\\}.$$\n",
    "\n",
    "Для данного признака посчитаем коэффициент Фи-Гилфорда. Будем использовать подвыборки, полученные в предыдущем пункте.\n",
    "\n",
    "Преимущество: оценивает категориальные данные, непосредственно то, что нужно бизнесу - выполняет сотрудник KPI или нет, применяется в социологических исследованиях \\\n",
    "Недостаток: при переводе количественных данных в бинарные теряется часть информации"
   ]
  },
  {
   "cell_type": "code",
   "execution_count": 147,
   "id": "7203f653",
   "metadata": {},
   "outputs": [],
   "source": [
    "dfdf = df.rename(columns={'После обучения': '2022'})"
   ]
  },
  {
   "cell_type": "code",
   "execution_count": 150,
   "id": "8b56b54d",
   "metadata": {},
   "outputs": [],
   "source": [
    "dfdf['Проходил обучение'] = [1] * len(df)\n",
    "results[0]['Проходил обучение'] = [0] * len(results[0])\n",
    "guilford = pd.concat([dfdf['2022'], results[0][2022]], axis=0, ignore_index=True)\n",
    "is_studied = pd.concat([dfdf['Проходил обучение'], results[0]['Проходил обучение']], axis=0, ignore_index=True)"
   ]
  },
  {
   "cell_type": "code",
   "execution_count": 153,
   "id": "a69f5d64",
   "metadata": {},
   "outputs": [],
   "source": [
    "df_guilford = pd.DataFrame({'Проходил обучение': is_studied, 'Выполнил KPI': guilford})"
   ]
  },
  {
   "cell_type": "markdown",
   "id": "b998cd82",
   "metadata": {},
   "source": [
    "##### Вид исследуемого датасета Гилфорда. Пример расчета на первой подвыборке"
   ]
  },
  {
   "cell_type": "code",
   "execution_count": 156,
   "id": "1576b92e",
   "metadata": {},
   "outputs": [
    {
     "data": {
      "text/html": [
       "<div>\n",
       "<style scoped>\n",
       "    .dataframe tbody tr th:only-of-type {\n",
       "        vertical-align: middle;\n",
       "    }\n",
       "\n",
       "    .dataframe tbody tr th {\n",
       "        vertical-align: top;\n",
       "    }\n",
       "\n",
       "    .dataframe thead th {\n",
       "        text-align: right;\n",
       "    }\n",
       "</style>\n",
       "<table border=\"1\" class=\"dataframe\">\n",
       "  <thead>\n",
       "    <tr style=\"text-align: right;\">\n",
       "      <th></th>\n",
       "      <th>Проходил обучение</th>\n",
       "      <th>Выполнил KPI</th>\n",
       "    </tr>\n",
       "  </thead>\n",
       "  <tbody>\n",
       "    <tr>\n",
       "      <th>0</th>\n",
       "      <td>1</td>\n",
       "      <td>0</td>\n",
       "    </tr>\n",
       "    <tr>\n",
       "      <th>1</th>\n",
       "      <td>1</td>\n",
       "      <td>1</td>\n",
       "    </tr>\n",
       "    <tr>\n",
       "      <th>2</th>\n",
       "      <td>1</td>\n",
       "      <td>1</td>\n",
       "    </tr>\n",
       "    <tr>\n",
       "      <th>3</th>\n",
       "      <td>1</td>\n",
       "      <td>1</td>\n",
       "    </tr>\n",
       "  </tbody>\n",
       "</table>\n",
       "</div>"
      ],
      "text/plain": [
       "   Проходил обучение  Выполнил KPI\n",
       "0                  1             0\n",
       "1                  1             1\n",
       "2                  1             1\n",
       "3                  1             1"
      ]
     },
     "execution_count": 156,
     "metadata": {},
     "output_type": "execute_result"
    }
   ],
   "source": [
    "df_guilford.head(4)"
   ]
  },
  {
   "cell_type": "markdown",
   "id": "7fcff1f9",
   "metadata": {},
   "source": [
    "##### Как считались коэффициенты:"
   ]
  },
  {
   "cell_type": "markdown",
   "id": "096dd32f",
   "metadata": {},
   "source": [
    "Из логики следующей 4-клеточной таблицы"
   ]
  },
  {
   "cell_type": "code",
   "execution_count": 185,
   "id": "dd755413",
   "metadata": {},
   "outputs": [
    {
     "data": {
      "text/html": [
       "<div>\n",
       "<style scoped>\n",
       "    .dataframe tbody tr th:only-of-type {\n",
       "        vertical-align: middle;\n",
       "    }\n",
       "\n",
       "    .dataframe tbody tr th {\n",
       "        vertical-align: top;\n",
       "    }\n",
       "\n",
       "    .dataframe thead th {\n",
       "        text-align: right;\n",
       "    }\n",
       "</style>\n",
       "<table border=\"1\" class=\"dataframe\">\n",
       "  <thead>\n",
       "    <tr style=\"text-align: right;\">\n",
       "      <th></th>\n",
       "      <th>Выполнил KPI в 2022</th>\n",
       "      <th>Не выполнил KPI в 2022</th>\n",
       "    </tr>\n",
       "  </thead>\n",
       "  <tbody>\n",
       "    <tr>\n",
       "      <th>Проходил обучение</th>\n",
       "      <td>a</td>\n",
       "      <td>b</td>\n",
       "    </tr>\n",
       "    <tr>\n",
       "      <th>Не проходил обучение</th>\n",
       "      <td>c</td>\n",
       "      <td>d</td>\n",
       "    </tr>\n",
       "  </tbody>\n",
       "</table>\n",
       "</div>"
      ],
      "text/plain": [
       "                     Выполнил KPI в 2022 Не выполнил KPI в 2022\n",
       "Проходил обучение                      a                      b\n",
       "Не проходил обучение                   c                      d"
      ]
     },
     "execution_count": 185,
     "metadata": {},
     "output_type": "execute_result"
    }
   ],
   "source": [
    "guilford_logic = pd.DataFrame({'Выполнил KPI в 2022': ['a', 'c'], 'Не выполнил KPI в 2022': ['b', 'd']})\n",
    "guilford_logic.rename(index={0: 'Проходил обучение', 1: 'Не проходил обучение'}, inplace=True)\n",
    "guilford_logic"
   ]
  },
  {
   "cell_type": "code",
   "execution_count": 157,
   "id": "e878737e",
   "metadata": {},
   "outputs": [
    {
     "name": "stdout",
     "output_type": "stream",
     "text": [
      "0.08164965809277261\n"
     ]
    }
   ],
   "source": [
    "a = len(df_guilford[(df_guilford['Проходил обучение'] == 1) & (df_guilford['Выполнил KPI'] == 1)])\n",
    "b = len(df_guilford[(df_guilford['Проходил обучение'] == 1) & (df_guilford['Выполнил KPI'] == 0)])\n",
    "c = len(df_guilford[(df_guilford['Проходил обучение'] == 0) & (df_guilford['Выполнил KPI'] == 1)])\n",
    "d = len(df_guilford[(df_guilford['Проходил обучение'] == 0) & (df_guilford['Выполнил KPI'] == 0)])\n",
    "phi = (a * d - b * c) / (((a + b) * (c + d) * (a + c) * (b + d)) ** 0.5)\n",
    "print(phi)"
   ]
  },
  {
   "cell_type": "markdown",
   "id": "28cbe7c4",
   "metadata": {},
   "source": [
    "На первой подвыборке получили коэффициент Гилфорда, равный 0.08"
   ]
  },
  {
   "cell_type": "markdown",
   "id": "2201c190",
   "metadata": {},
   "source": [
    "##### Подсчет коэффициентов на всех подвыборках"
   ]
  },
  {
   "cell_type": "code",
   "execution_count": 158,
   "id": "3ed0bb21",
   "metadata": {},
   "outputs": [],
   "source": [
    "guilfords = []\n",
    "for i in range(len(results)):\n",
    "    results[i]['Проходил обучение'] = [0] * len(results[i])\n",
    "    guilford_i = pd.concat([dfdf['2022'], results[i][2022]], axis=0, ignore_index=True)\n",
    "    is_studied_i = pd.concat([dfdf['Проходил обучение'], results[i]['Проходил обучение']], axis=0, ignore_index=True)\n",
    "    df_guilford_i = pd.DataFrame({'Проходил обучение': is_studied_i, 'Выполнил KPI': guilford_i})\n",
    "    a_i = len(df_guilford_i[(df_guilford_i['Проходил обучение'] == 1) & (df_guilford_i['Выполнил KPI'] == 1)])\n",
    "    b_i = len(df_guilford_i[(df_guilford_i['Проходил обучение'] == 1) & (df_guilford_i['Выполнил KPI'] == 0)])\n",
    "    c_i = len(df_guilford_i[(df_guilford_i['Проходил обучение'] == 0) & (df_guilford_i['Выполнил KPI'] == 1)])\n",
    "    d_i = len(df_guilford_i[(df_guilford_i['Проходил обучение'] == 0) & (df_guilford_i['Выполнил KPI'] == 0)])\n",
    "    phi_i = (a_i * d_i - b_i * c_i) / (((a_i + b_i) * (c_i + d_i) * (a_i + c_i) * (b_i + d_i)) ** 0.5)\n",
    "    guilfords.append(phi_i)"
   ]
  },
  {
   "cell_type": "code",
   "execution_count": 159,
   "id": "c7d1bfe1",
   "metadata": {},
   "outputs": [],
   "source": [
    "pd_guilfords = pd.DataFrame()\n",
    "pd_guilfords['guilford'] = guilfords"
   ]
  },
  {
   "cell_type": "code",
   "execution_count": 186,
   "id": "1de9ffbf",
   "metadata": {},
   "outputs": [
    {
     "data": {
      "text/html": [
       "<div>\n",
       "<style scoped>\n",
       "    .dataframe tbody tr th:only-of-type {\n",
       "        vertical-align: middle;\n",
       "    }\n",
       "\n",
       "    .dataframe tbody tr th {\n",
       "        vertical-align: top;\n",
       "    }\n",
       "\n",
       "    .dataframe thead th {\n",
       "        text-align: right;\n",
       "    }\n",
       "</style>\n",
       "<table border=\"1\" class=\"dataframe\">\n",
       "  <thead>\n",
       "    <tr style=\"text-align: right;\">\n",
       "      <th></th>\n",
       "      <th>guilford</th>\n",
       "    </tr>\n",
       "  </thead>\n",
       "  <tbody>\n",
       "    <tr>\n",
       "      <th>0</th>\n",
       "      <td>0.081650</td>\n",
       "    </tr>\n",
       "    <tr>\n",
       "      <th>1</th>\n",
       "      <td>0.154303</td>\n",
       "    </tr>\n",
       "    <tr>\n",
       "      <th>2</th>\n",
       "      <td>0.000000</td>\n",
       "    </tr>\n",
       "    <tr>\n",
       "      <th>3</th>\n",
       "      <td>0.118864</td>\n",
       "    </tr>\n",
       "    <tr>\n",
       "      <th>4</th>\n",
       "      <td>0.081650</td>\n",
       "    </tr>\n",
       "    <tr>\n",
       "      <th>5</th>\n",
       "      <td>0.000000</td>\n",
       "    </tr>\n",
       "    <tr>\n",
       "      <th>6</th>\n",
       "      <td>-0.152894</td>\n",
       "    </tr>\n",
       "    <tr>\n",
       "      <th>7</th>\n",
       "      <td>0.154303</td>\n",
       "    </tr>\n",
       "    <tr>\n",
       "      <th>8</th>\n",
       "      <td>0.000000</td>\n",
       "    </tr>\n",
       "    <tr>\n",
       "      <th>9</th>\n",
       "      <td>0.118864</td>\n",
       "    </tr>\n",
       "    <tr>\n",
       "      <th>10</th>\n",
       "      <td>0.081650</td>\n",
       "    </tr>\n",
       "    <tr>\n",
       "      <th>11</th>\n",
       "      <td>-0.045787</td>\n",
       "    </tr>\n",
       "    <tr>\n",
       "      <th>12</th>\n",
       "      <td>-0.045787</td>\n",
       "    </tr>\n",
       "    <tr>\n",
       "      <th>13</th>\n",
       "      <td>-0.045787</td>\n",
       "    </tr>\n",
       "    <tr>\n",
       "      <th>14</th>\n",
       "      <td>0.000000</td>\n",
       "    </tr>\n",
       "    <tr>\n",
       "      <th>15</th>\n",
       "      <td>0.042220</td>\n",
       "    </tr>\n",
       "    <tr>\n",
       "      <th>16</th>\n",
       "      <td>-0.096225</td>\n",
       "    </tr>\n",
       "    <tr>\n",
       "      <th>17</th>\n",
       "      <td>0.000000</td>\n",
       "    </tr>\n",
       "    <tr>\n",
       "      <th>18</th>\n",
       "      <td>0.081650</td>\n",
       "    </tr>\n",
       "  </tbody>\n",
       "</table>\n",
       "</div>"
      ],
      "text/plain": [
       "    guilford\n",
       "0   0.081650\n",
       "1   0.154303\n",
       "2   0.000000\n",
       "3   0.118864\n",
       "4   0.081650\n",
       "5   0.000000\n",
       "6  -0.152894\n",
       "7   0.154303\n",
       "8   0.000000\n",
       "9   0.118864\n",
       "10  0.081650\n",
       "11 -0.045787\n",
       "12 -0.045787\n",
       "13 -0.045787\n",
       "14  0.000000\n",
       "15  0.042220\n",
       "16 -0.096225\n",
       "17  0.000000\n",
       "18  0.081650"
      ]
     },
     "execution_count": 186,
     "metadata": {},
     "output_type": "execute_result"
    }
   ],
   "source": [
    "pd_guilfords"
   ]
  },
  {
   "cell_type": "markdown",
   "id": "546dd887",
   "metadata": {},
   "source": [
    "Коэффициенты Гилфорда на полученных подвыборках не превышают 0.16, что говорит о незначимом влиянии признака"
   ]
  },
  {
   "cell_type": "markdown",
   "id": "18b1e867",
   "metadata": {},
   "source": [
    "## Выводы"
   ]
  },
  {
   "cell_type": "markdown",
   "id": "9868e174",
   "metadata": {},
   "source": [
    "-- При фиксированных допущениях и ограничениях абсолютно все используемые тесты и подходы не выявили статистически значимого роста выполнения KPI у сотрудников, проходивших обучение"
   ]
  },
  {
   "cell_type": "markdown",
   "id": "4af0c93c",
   "metadata": {},
   "source": [
    "Можно сделать вывод о том, что в действующей методике оценивания KPI, прохождение сотрудниками курса \"Управление проектами\" не является значимым признаком, влияющим на эффективность. Однако, есть вероятность, что оценка итоговой эффективности - слишком нагруженная мера оценивания, включающая в себя слишком много различных критериев, и прохождение учебных курсов не может напрямую повлиять на нее. В связи с чем возникает идея проверить значимость исследуемого признака непосредственно на KPI по проектным задачам."
   ]
  },
  {
   "cell_type": "markdown",
   "id": "7f6f76c9",
   "metadata": {},
   "source": [
    "##### Дальнейший план исследования"
   ]
  },
  {
   "cell_type": "markdown",
   "id": "ae4e9f8f",
   "metadata": {},
   "source": [
    "1) Будет правильнее увеличить выборку в п.3 и п.4 за счет того, что там не требуются ограничения на связанность выборок - это позволит получить более точные результаты. Выборка увеличится в два раза - серьезное уточнение результатов\n",
    "\n",
    "2) Может быть есть смысл проверить значимость обучения на KPI по проектным задачам?\n",
    "\n",
    "3) Провести исследование на группах с более четкими критериями оценивания эффективности (может быть, производственниками)"
   ]
  }
 ],
 "metadata": {
  "celltoolbar": "Необработанный формат ячейки",
  "kernelspec": {
   "display_name": "Python 3 (ipykernel)",
   "language": "python",
   "name": "python3"
  },
  "language_info": {
   "codemirror_mode": {
    "name": "ipython",
    "version": 3
   },
   "file_extension": ".py",
   "mimetype": "text/x-python",
   "name": "python",
   "nbconvert_exporter": "python",
   "pygments_lexer": "ipython3",
   "version": "3.9.7"
  }
 },
 "nbformat": 4,
 "nbformat_minor": 5
}
